{
 "cells": [
  {
   "cell_type": "markdown",
   "metadata": {},
   "source": [
    "This notebook modifies the example in `analysis_schema.Schema_Pydantic_Model.py` test out how to instantiate pydantic objects from an already validated json. \n",
    "\n",
    "This sets up a simplified pydantic model:"
   ]
  },
  {
   "cell_type": "code",
   "execution_count": 1,
   "metadata": {},
   "outputs": [],
   "source": [
    "from enum import Enum\n",
    "from pathlib import Path\n",
    "from enum import Enum\n",
    "from pydantic import BaseModel, Field, constr\n",
    "from typing import Generic, List, Union, Dict, Optional\n",
    "import pydantic\n",
    "from pydantic.main import create_model\n",
    "from uuid import UUID, uuid4\n",
    "from dataclasses import dataclass\n",
    "\n",
    "#from pydantic.types import ModelOrDc\n",
    "\n",
    "# TO DO: \n",
    "# domain contexts - add class and add conditional logic. What classes, attributes, and methods should be subject to domain flexibility?\n",
    "# start a spreadsheet / google doc to track this?\n",
    "# ontologies? - add? pull from? \n",
    "# what are essential yt methods and attributes that need to be a part of each data class?\n",
    "# - what of these attributes should the user not see (be set to private in pydantic)\n",
    "# - What of these attributes should the user see/customize?\n",
    "# - what of these atrributes are astro-specific? is there anything that is essential and astro-specific?\n",
    "\n",
    "# for data ouptut - what in yt holds the data? What is data in yt? What should the schema refer to - create a mini-model to hold data output. Have user name that output, like a variable name? Have an id assigned to it?\n",
    "\n",
    "# data ouput idea - turn data points into properties for re-use\n",
    "\n",
    "# @dataclass\n",
    "# class InputOutputMapping:\n",
    "#     combo1: Dict[str, List[str]] = {'registration': ['selection', 'reduction', 'transformation']}\n",
    "\n",
    "class Dataset(BaseModel):\n",
    "    \"\"\" \n",
    "    The dataset model to load and that will be drawn from for other classes. Filename is the only required field. \n",
    "    \"\"\"\n",
    "    filename: str\n",
    "    name: str = \"Data for Science\"\n",
    "    comments: Optional[str] \n",
    "    grammar: str = \"registration\"\n",
    "\n",
    "class Fields(BaseModel):\n",
    "    field: str\n",
    "    # unit - domain specific\n",
    "    unit: str\n",
    "    comments: Optional[str]\n",
    "    grammar: str = \"selection\"\n",
    "\n",
    "class AxisPlot(BaseModel):\n",
    "    axis: str\n",
    "    comments: Optional[str]\n",
    "\n",
    "class Center(BaseModel):\n",
    "    center: str\n",
    "    comments: Optional[str]\n",
    "\n",
    "class Widths(BaseModel):\n",
    "    width: str\n",
    "    comments: Optional[str]\n",
    "\n",
    "class ColorMap(BaseModel):\n",
    "    # list of pre-determined strings\n",
    "    astro_map: str = \"plasma\"\n",
    "\n",
    "class Scale(BaseModel):\n",
    "    # list of pre-determined strings\n",
    "    scale: str = \"log\"\n",
    "\n",
    "class Average(BaseModel):\n",
    "    average_field: Fields\n",
    "    comments: Optional[str]\n",
    "    grammar: str = \"reduction\"\n",
    "\n",
    "class Sum(BaseModel):\n",
    "    sum_field: Fields\n",
    "    comments: Optional[str]\n",
    "    grammar: str = \"reduction\"\n",
    "\n",
    "class Operations(BaseModel):\n",
    "    operation: Union[Sum, Average]\n",
    "\n",
    "class _PlotAttributes(BaseModel):\n",
    "    # necessary and private plotting functions for all plots\n",
    "    PlottingWindow: str = \"1.0\"\n",
    "\n",
    "class DataSource(BaseModel):\n",
    "    dataset: Dataset\n",
    "    data_selection: Union[Fields, Operations]\n",
    "\n",
    "class SlicePlot(BaseModel):\n",
    "    Data: DataSource\n",
    "    AxisPlot: Optional[List[AxisPlot]]\n",
    "    CenterPlot: Optional[Center]\n",
    "    WidthPlot: Optional[List[Widths]]\n",
    "    Comments: Optional[str]\n",
    "    Annotation : bool = False\n",
    "    # color map - domain specific\n",
    "    ColorMap: str = None\n",
    "    _PlotFunctions: _PlotAttributes\n",
    "\n",
    "\n",
    "class ytModel(BaseModel):\n",
    "    '''\n",
    "    An example for a yt analysis schema using Pydantic\n",
    "    '''\n",
    "    Plot: List[SlicePlot]\n",
    "\n",
    "    class Config:\n",
    "        title = 'yt example'\n",
    "        underscore_attrs_are_private = True\n",
    "\n"
   ]
  },
  {
   "cell_type": "markdown",
   "metadata": {},
   "source": [
    "So let's assume the following json has come back from our json validator web framework:"
   ]
  },
  {
   "cell_type": "code",
   "execution_count": 2,
   "metadata": {},
   "outputs": [],
   "source": [
    "# file_path = Path(\"Data.json\")\n",
    "# print(file_path)\n",
    "\n",
    "validated_json = {'Plot': [{\"Data\": {\"dataset\": {\"filename\": \"data.txt\"}, \n",
    "                    \"data_selection\": {\"field\": \"density\", \"unit\": \"kpc\"}}}]}\n"
   ]
  },
  {
   "cell_type": "markdown",
   "metadata": {},
   "source": [
    "we can instantiate a new `ytModel`:"
   ]
  },
  {
   "cell_type": "code",
   "execution_count": 4,
   "metadata": {},
   "outputs": [],
   "source": [
    "test = ytModel(Plot = validated_json['Plot'])"
   ]
  },
  {
   "cell_type": "code",
   "execution_count": 5,
   "metadata": {},
   "outputs": [
    {
     "data": {
      "text/plain": [
       "ytModel(Plot=[SlicePlot(Data=DataSource(dataset=Dataset(filename='data.txt', name='Data for Science', comments=None, grammar='registration'), data_selection=Fields(field='density', unit='kpc', comments=None, grammar='selection')), AxisPlot=None, CenterPlot=None, WidthPlot=None, Comments=None, Annotation=False, ColorMap=None)])"
      ]
     },
     "execution_count": 5,
     "metadata": {},
     "output_type": "execute_result"
    }
   ],
   "source": [
    "test"
   ]
  },
  {
   "cell_type": "markdown",
   "metadata": {},
   "source": [
    "and all the nested attributes are indeed instantiated pydantic classes:"
   ]
  },
  {
   "cell_type": "code",
   "execution_count": 8,
   "metadata": {},
   "outputs": [],
   "source": [
    "p = test.Plot[0]"
   ]
  },
  {
   "cell_type": "code",
   "execution_count": 9,
   "metadata": {},
   "outputs": [
    {
     "data": {
      "text/plain": [
       "SlicePlot(Data=DataSource(dataset=Dataset(filename='data.txt', name='Data for Science', comments=None, grammar='registration'), data_selection=Fields(field='density', unit='kpc', comments=None, grammar='selection')), AxisPlot=None, CenterPlot=None, WidthPlot=None, Comments=None, Annotation=False, ColorMap=None)"
      ]
     },
     "execution_count": 9,
     "metadata": {},
     "output_type": "execute_result"
    }
   ],
   "source": [
    "p"
   ]
  },
  {
   "cell_type": "code",
   "execution_count": 10,
   "metadata": {},
   "outputs": [
    {
     "data": {
      "text/plain": [
       "__main__.SlicePlot"
      ]
     },
     "execution_count": 10,
     "metadata": {},
     "output_type": "execute_result"
    }
   ],
   "source": [
    "type(p)"
   ]
  },
  {
   "cell_type": "code",
   "execution_count": 14,
   "metadata": {},
   "outputs": [
    {
     "data": {
      "text/plain": [
       "'{\"title\": \"SlicePlot\", \"type\": \"object\", \"properties\": {\"Data\": {\"$ref\": \"#/definitions/DataSource\"}, \"AxisPlot\": {\"title\": \"Axisplot\", \"type\": \"array\", \"items\": {\"$ref\": \"#/definitions/AxisPlot\"}}, \"CenterPlot\": {\"$ref\": \"#/definitions/Center\"}, \"WidthPlot\": {\"title\": \"Widthplot\", \"type\": \"array\", \"items\": {\"$ref\": \"#/definitions/Widths\"}}, \"Comments\": {\"title\": \"Comments\", \"type\": \"string\"}, \"Annotation\": {\"title\": \"Annotation\", \"default\": false, \"type\": \"boolean\"}, \"ColorMap\": {\"title\": \"Colormap\", \"type\": \"string\"}}, \"required\": [\"Data\"], \"definitions\": {\"Dataset\": {\"title\": \"Dataset\", \"description\": \"The dataset model to load and that will be drawn from for other classes. Filename is the only required field. \", \"type\": \"object\", \"properties\": {\"filename\": {\"title\": \"Filename\", \"type\": \"string\"}, \"name\": {\"title\": \"Name\", \"default\": \"Data for Science\", \"type\": \"string\"}, \"comments\": {\"title\": \"Comments\", \"type\": \"string\"}, \"grammar\": {\"title\": \"Grammar\", \"default\": \"registration\", \"type\": \"string\"}}, \"required\": [\"filename\"]}, \"Fields\": {\"title\": \"Fields\", \"type\": \"object\", \"properties\": {\"field\": {\"title\": \"Field\", \"type\": \"string\"}, \"unit\": {\"title\": \"Unit\", \"type\": \"string\"}, \"comments\": {\"title\": \"Comments\", \"type\": \"string\"}, \"grammar\": {\"title\": \"Grammar\", \"default\": \"selection\", \"type\": \"string\"}}, \"required\": [\"field\", \"unit\"]}, \"Sum\": {\"title\": \"Sum\", \"type\": \"object\", \"properties\": {\"sum_field\": {\"$ref\": \"#/definitions/Fields\"}, \"comments\": {\"title\": \"Comments\", \"type\": \"string\"}, \"grammar\": {\"title\": \"Grammar\", \"default\": \"reduction\", \"type\": \"string\"}}, \"required\": [\"sum_field\"]}, \"Average\": {\"title\": \"Average\", \"type\": \"object\", \"properties\": {\"average_field\": {\"$ref\": \"#/definitions/Fields\"}, \"comments\": {\"title\": \"Comments\", \"type\": \"string\"}, \"grammar\": {\"title\": \"Grammar\", \"default\": \"reduction\", \"type\": \"string\"}}, \"required\": [\"average_field\"]}, \"Operations\": {\"title\": \"Operations\", \"type\": \"object\", \"properties\": {\"operation\": {\"title\": \"Operation\", \"anyOf\": [{\"$ref\": \"#/definitions/Sum\"}, {\"$ref\": \"#/definitions/Average\"}]}}, \"required\": [\"operation\"]}, \"DataSource\": {\"title\": \"DataSource\", \"type\": \"object\", \"properties\": {\"dataset\": {\"$ref\": \"#/definitions/Dataset\"}, \"data_selection\": {\"title\": \"Data Selection\", \"anyOf\": [{\"$ref\": \"#/definitions/Fields\"}, {\"$ref\": \"#/definitions/Operations\"}]}}, \"required\": [\"dataset\", \"data_selection\"]}, \"AxisPlot\": {\"title\": \"AxisPlot\", \"type\": \"object\", \"properties\": {\"axis\": {\"title\": \"Axis\", \"type\": \"string\"}, \"comments\": {\"title\": \"Comments\", \"type\": \"string\"}}, \"required\": [\"axis\"]}, \"Center\": {\"title\": \"Center\", \"type\": \"object\", \"properties\": {\"center\": {\"title\": \"Center\", \"type\": \"string\"}, \"comments\": {\"title\": \"Comments\", \"type\": \"string\"}}, \"required\": [\"center\"]}, \"Widths\": {\"title\": \"Widths\", \"type\": \"object\", \"properties\": {\"width\": {\"title\": \"Width\", \"type\": \"string\"}, \"comments\": {\"title\": \"Comments\", \"type\": \"string\"}}, \"required\": [\"width\"]}}}'"
      ]
     },
     "execution_count": 14,
     "metadata": {},
     "output_type": "execute_result"
    }
   ],
   "source": [
    "p.schema_json()"
   ]
  },
  {
   "cell_type": "code",
   "execution_count": 15,
   "metadata": {},
   "outputs": [
    {
     "data": {
      "text/plain": [
       "DataSource(dataset=Dataset(filename='data.txt', name='Data for Science', comments=None, grammar='registration'), data_selection=Fields(field='density', unit='kpc', comments=None, grammar='selection'))"
      ]
     },
     "execution_count": 15,
     "metadata": {},
     "output_type": "execute_result"
    }
   ],
   "source": [
    "p.Data"
   ]
  },
  {
   "cell_type": "code",
   "execution_count": 16,
   "metadata": {},
   "outputs": [
    {
     "data": {
      "text/plain": [
       "Dataset(filename='data.txt', name='Data for Science', comments=None, grammar='registration')"
      ]
     },
     "execution_count": 16,
     "metadata": {},
     "output_type": "execute_result"
    }
   ],
   "source": [
    "p.Data.dataset"
   ]
  },
  {
   "cell_type": "code",
   "execution_count": 17,
   "metadata": {},
   "outputs": [
    {
     "data": {
      "text/plain": [
       "'data.txt'"
      ]
     },
     "execution_count": 17,
     "metadata": {},
     "output_type": "execute_result"
    }
   ],
   "source": [
    "p.Data.dataset.filename"
   ]
  },
  {
   "cell_type": "markdown",
   "metadata": {},
   "source": [
    "So all the things are there! Just giving the validated json to the top-level pydantic model instantiates all the referenced objects. \n",
    "\n",
    "So let's try modifying to add the recursive example. Here's a slightly modified version of the `ytBaseModel` class from the `ytBaseModelPrototype` notebook, now with an additional optional `yt_operation` attribute that specifies a `yt` function to call: "
   ]
  },
  {
   "cell_type": "code",
   "execution_count": 51,
   "metadata": {},
   "outputs": [],
   "source": [
    "from pydantic import BaseModel\n",
    "from inspect import getfullargspec\n",
    "\n",
    "\n",
    "class ytBaseModel(BaseModel):\n",
    "    _arg_mapping: dict = {}  # mapping from internal yt name to schema name\n",
    "    _yt_operation: Optional[str]\n",
    "        \n",
    "    def _run(self):\n",
    "        # this method actually executes the yt code \n",
    "        \n",
    "        # first make sure yt is imported and then get our function handle. This assumes\n",
    "        # that our class name exists in yt's top level api.\n",
    "        import yt\n",
    "        print(self._yt_operation)\n",
    "        \n",
    "        funcname = getattr(self, \"_yt_operation\", type(self).__name__ )        \n",
    "        func = getattr(yt, funcname)\n",
    "        print(f\"pulled func {func}\")\n",
    "\n",
    "        # now we get the arguments for the function:\n",
    "        # func_spec.args, which lists the named arguments and keyword arguments.\n",
    "        # ignoring vargs and kw-only args for now...\n",
    "        # see https://docs.python.org/3/library/inspect.html#inspect.getfullargspec\n",
    "        func_spec = getfullargspec(func)\n",
    "\n",
    "        # the list that we'll use to eventually call our function\n",
    "        the_args = []\n",
    "\n",
    "        # the argument position number at which we have default values (a little hacky, should\n",
    "        # be a better way to do this, and not sure how to scale it to include *args and **kwargs)\n",
    "        n_args = len(func_spec.args)  # number of arguments\n",
    "        if func_spec.defaults is None:\n",
    "            # no default args, make sure we never get there...\n",
    "            named_kw_start_at = n_args + 1\n",
    "        else:\n",
    "            # the position at which named keyword args start\n",
    "            named_kw_start_at = n_args - len(func_spec.defaults)\n",
    "        print(f\"keywords start at {named_kw_start_at}\")\n",
    "\n",
    "        # loop over the call signature arguments and pull out values from our pydantic class .\n",
    "        # this is recursive! will call _run() if a given argument value is also a ytBaseModel.\n",
    "        for arg_i, arg in enumerate(func_spec.args):\n",
    "            # check if we've remapped the yt internal argument name for the schema\n",
    "            if arg in self._arg_mapping:\n",
    "                arg = self._arg_mapping[arg]\n",
    "\n",
    "            # get the value for this argument. If it's not there, attempt to set default values \n",
    "            # for arguments needed for yt but not exposed in our pydantic class\n",
    "            print(arg)\n",
    "            try:\n",
    "                arg_value = getattr(self, arg)\n",
    "            except AttributeError:\n",
    "                if arg_i >= named_kw_start_at:\n",
    "                    # we are in the named keyword arguments, grab the default\n",
    "                    # the func_spec.defaults tuple 0 index is the first named\n",
    "                    # argument, so need to offset the arg_i counter\n",
    "                    default_index = arg_i - named_kw_start_at\n",
    "                    arg_value = func_spec.defaults[default_index]\n",
    "                else:\n",
    "                    raise AttributeError\n",
    "\n",
    "            # check if this argument is itself a ytBaseModel for which we need to run\n",
    "            # this should make this a fully recursive function?\n",
    "            # if hasattr(arg_value,'_run'):\n",
    "            if isinstance(arg_value, ytBaseModel):\n",
    "                print(f\"{arg_value} is a ytBaseModel, calling {arg_value}._run() now...\")\n",
    "                arg_value = arg_value._run()\n",
    "\n",
    "            the_args.append(arg_value)\n",
    "        print(the_args)\n",
    "        return func(*the_args)      \n",
    "       "
   ]
  },
  {
   "cell_type": "markdown",
   "metadata": {},
   "source": [
    "Ok, let's try this out with a simpler model:"
   ]
  },
  {
   "cell_type": "code",
   "execution_count": 78,
   "metadata": {},
   "outputs": [],
   "source": [
    "class Dataset(ytBaseModel):\n",
    "    \"\"\" \n",
    "    The dataset model to load and that will be drawn from for other classes. Filename is the only required field. \n",
    "    \"\"\"\n",
    "    filename: str\n",
    "    name: str = \"Data for Science\"\n",
    "    comments: Optional[str] \n",
    "    grammar: str = \"registration\"\n",
    "    _yt_operation: str = \"load\"\n",
    "    _arg_mapping: dict = {'fn' : 'filename'}\n",
    "\n",
    "class ytModel(ytBaseModel):\n",
    "    '''\n",
    "    An example for a yt analysis schema using Pydantic\n",
    "    '''\n",
    "    Load: Dataset\n",
    "\n",
    "    class Config:\n",
    "        title = 'yt example'\n",
    "        underscore_attrs_are_private = True\n",
    "        \n",
    "    def _run(self):\n",
    "        # for the top level model, we override this. Nested objects will still be recursive!\n",
    "        att = getattr(self, \"Load\")\n",
    "        return att._run() \n"
   ]
  },
  {
   "cell_type": "code",
   "execution_count": 71,
   "metadata": {},
   "outputs": [],
   "source": [
    "test_j = {'Load': {\"filename\": \"IsolatedGalaxy/galaxy0030/galaxy0030\"}}\n",
    "                           "
   ]
  },
  {
   "cell_type": "code",
   "execution_count": 72,
   "metadata": {},
   "outputs": [],
   "source": [
    "ds_model = Dataset(**test_j['Load'])"
   ]
  },
  {
   "cell_type": "code",
   "execution_count": 73,
   "metadata": {},
   "outputs": [
    {
     "data": {
      "text/plain": [
       "'load'"
      ]
     },
     "execution_count": 73,
     "metadata": {},
     "output_type": "execute_result"
    }
   ],
   "source": [
    "ds_model._yt_operation"
   ]
  },
  {
   "cell_type": "code",
   "execution_count": 74,
   "metadata": {},
   "outputs": [
    {
     "name": "stderr",
     "output_type": "stream",
     "text": [
      "yt : [INFO     ] 2021-04-09 16:24:18,165 Parameters: current_time              = 0.0060000200028298\n",
      "yt : [INFO     ] 2021-04-09 16:24:18,166 Parameters: domain_dimensions         = [32 32 32]\n",
      "yt : [INFO     ] 2021-04-09 16:24:18,166 Parameters: domain_left_edge          = [0. 0. 0.]\n",
      "yt : [INFO     ] 2021-04-09 16:24:18,167 Parameters: domain_right_edge         = [1. 1. 1.]\n",
      "yt : [INFO     ] 2021-04-09 16:24:18,167 Parameters: cosmological_simulation   = 0\n"
     ]
    },
    {
     "name": "stdout",
     "output_type": "stream",
     "text": [
      "load\n",
      "pulled func <function load at 0x7f3739973950>\n",
      "keywords start at 2\n",
      "filename\n",
      "['IsolatedGalaxy/galaxy0030/galaxy0030']\n"
     ]
    }
   ],
   "source": [
    "ds = ds_model._run()"
   ]
  },
  {
   "cell_type": "code",
   "execution_count": 75,
   "metadata": {},
   "outputs": [
    {
     "data": {
      "text/plain": [
       "yt.frontends.enzo.data_structures.EnzoDataset"
      ]
     },
     "execution_count": 75,
     "metadata": {},
     "output_type": "execute_result"
    }
   ],
   "source": [
    "type(ds)"
   ]
  },
  {
   "cell_type": "code",
   "execution_count": 79,
   "metadata": {},
   "outputs": [],
   "source": [
    "yt_mod = ytModel(Load = test_j['Load'])"
   ]
  },
  {
   "cell_type": "code",
   "execution_count": 80,
   "metadata": {},
   "outputs": [
    {
     "data": {
      "text/plain": [
       "ytModel(Load=Dataset(filename='IsolatedGalaxy/galaxy0030/galaxy0030', name='Data for Science', comments=None, grammar='registration'))"
      ]
     },
     "execution_count": 80,
     "metadata": {},
     "output_type": "execute_result"
    }
   ],
   "source": [
    "yt_mod"
   ]
  },
  {
   "cell_type": "code",
   "execution_count": 82,
   "metadata": {},
   "outputs": [
    {
     "name": "stderr",
     "output_type": "stream",
     "text": [
      "yt : [INFO     ] 2021-04-09 16:29:16,421 Parameters: current_time              = 0.0060000200028298\n",
      "yt : [INFO     ] 2021-04-09 16:29:16,422 Parameters: domain_dimensions         = [32 32 32]\n",
      "yt : [INFO     ] 2021-04-09 16:29:16,422 Parameters: domain_left_edge          = [0. 0. 0.]\n",
      "yt : [INFO     ] 2021-04-09 16:29:16,423 Parameters: domain_right_edge         = [1. 1. 1.]\n",
      "yt : [INFO     ] 2021-04-09 16:29:16,424 Parameters: cosmological_simulation   = 0\n"
     ]
    },
    {
     "name": "stdout",
     "output_type": "stream",
     "text": [
      "load\n",
      "pulled func <function load at 0x7f3739973950>\n",
      "keywords start at 2\n",
      "filename\n",
      "['IsolatedGalaxy/galaxy0030/galaxy0030']\n"
     ]
    }
   ],
   "source": [
    "ds = yt_mod._run()"
   ]
  },
  {
   "cell_type": "markdown",
   "metadata": {},
   "source": [
    "Ok, let's return to a more complicated example:"
   ]
  },
  {
   "cell_type": "code",
   "execution_count": 213,
   "metadata": {},
   "outputs": [],
   "source": [
    "from pydantic import BaseModel\n",
    "from inspect import getfullargspec\n",
    "\n",
    "\n",
    "class ytBaseModel(BaseModel):\n",
    "    _arg_mapping: dict = {}  # mapping from internal yt name to schema name\n",
    "    _yt_operation: Optional[str]\n",
    "        \n",
    "    def _run(self):\n",
    "        # this method actually executes the yt code \n",
    "        \n",
    "        # first make sure yt is imported and then get our function handle. This assumes\n",
    "        # that our class name exists in yt's top level api.\n",
    "        import yt\n",
    "        print(self._yt_operation)\n",
    "        \n",
    "        funcname = getattr(self, \"_yt_operation\", type(self).__name__ )        \n",
    "        func = getattr(yt, funcname)\n",
    "        print(f\"pulled func {func}\")\n",
    "\n",
    "        # now we get the arguments for the function:\n",
    "        # func_spec.args, which lists the named arguments and keyword arguments.\n",
    "        # ignoring vargs and kw-only args for now...\n",
    "        # see https://docs.python.org/3/library/inspect.html#inspect.getfullargspec\n",
    "        func_spec = getfullargspec(func)\n",
    "\n",
    "        # the list that we'll use to eventually call our function\n",
    "        the_args = []\n",
    "\n",
    "        # the argument position number at which we have default values (a little hacky, should\n",
    "        # be a better way to do this, and not sure how to scale it to include *args and **kwargs)\n",
    "        n_args = len(func_spec.args)  # number of arguments\n",
    "        if func_spec.defaults is None:\n",
    "            # no default args, make sure we never get there...\n",
    "            named_kw_start_at = n_args + 1\n",
    "        else:\n",
    "            # the position at which named keyword args start\n",
    "            named_kw_start_at = n_args - len(func_spec.defaults)\n",
    "        print(f\"keywords start at {named_kw_start_at}\")\n",
    "\n",
    "        # loop over the call signature arguments and pull out values from our pydantic class .\n",
    "        # this is recursive! will call _run() if a given argument value is also a ytBaseModel.\n",
    "        for arg_i, arg in enumerate(func_spec.args):\n",
    "            # check if we've remapped the yt internal argument name for the schema\n",
    "            if arg in self._arg_mapping:\n",
    "                arg = self._arg_mapping[arg]\n",
    "\n",
    "            # get the value for this argument. If it's not there, attempt to set default values \n",
    "            # for arguments needed for yt but not exposed in our pydantic class\n",
    "            print(arg)\n",
    "            try:\n",
    "                arg_value = getattr(self, arg)\n",
    "            except AttributeError:\n",
    "                if arg_i >= named_kw_start_at:\n",
    "                    # we are in the named keyword arguments, grab the default\n",
    "                    # the func_spec.defaults tuple 0 index is the first named\n",
    "                    # argument, so need to offset the arg_i counter\n",
    "                    default_index = arg_i - named_kw_start_at\n",
    "                    arg_value = func_spec.defaults[default_index]\n",
    "                else:\n",
    "                    raise AttributeError\n",
    "\n",
    "            # check if this argument is itself a ytBaseModel for which we need to run\n",
    "            # this should make this a fully recursive function?\n",
    "            # if hasattr(arg_value,'_run'):\n",
    "            if isinstance(arg_value, ytBaseModel) or isinstance(arg_value, ytParameter):\n",
    "                print(f\"{arg_value} is a {type(arg_value)}, calling {arg_value}._run() now...\")\n",
    "                arg_value = arg_value._run()\n",
    "\n",
    "            the_args.append(arg_value)\n",
    "        print(the_args)\n",
    "        return func(*the_args) \n",
    "    \n",
    "class ytParameter(BaseModel):    \n",
    "    _skip_these = ['comments']\n",
    "    \n",
    "    def _run(self):\n",
    "        p = [getattr(self,key) for key in self.schema()['properties'].keys() if key not in self._skip_these]\n",
    "        if len(p) > 1:\n",
    "            raise ValueError(\"whoops. ytParameter instances can only have single values\")\n",
    "        return p[0]\n",
    "    "
   ]
  },
  {
   "cell_type": "code",
   "execution_count": 214,
   "metadata": {},
   "outputs": [
    {
     "data": {
      "text/plain": [
       "{'Load': {'$ref': '#/definitions/Dataset'}}"
      ]
     },
     "execution_count": 214,
     "metadata": {},
     "output_type": "execute_result"
    }
   ],
   "source": [
    "yt_mod.schema()['properties']"
   ]
  },
  {
   "cell_type": "code",
   "execution_count": null,
   "metadata": {},
   "outputs": [],
   "source": []
  },
  {
   "cell_type": "code",
   "execution_count": 215,
   "metadata": {},
   "outputs": [],
   "source": [
    "from enum import Enum\n",
    "from pathlib import Path\n",
    "from enum import Enum\n",
    "from pydantic import BaseModel, Field, constr\n",
    "from typing import Generic, List, Union, Dict, Optional\n",
    "import pydantic\n",
    "from pydantic.main import create_model\n",
    "from uuid import UUID, uuid4\n",
    "from dataclasses import dataclass\n",
    "\n",
    "#from pydantic.types import ModelOrDc\n",
    "\n",
    "# TO DO: \n",
    "# domain contexts - add class and add conditional logic. What classes, attributes, and methods should be subject to domain flexibility?\n",
    "# start a spreadsheet / google doc to track this?\n",
    "# ontologies? - add? pull from? \n",
    "# what are essential yt methods and attributes that need to be a part of each data class?\n",
    "# - what of these attributes should the user not see (be set to private in pydantic)\n",
    "# - What of these attributes should the user see/customize?\n",
    "# - what of these atrributes are astro-specific? is there anything that is essential and astro-specific?\n",
    "\n",
    "# for data ouptut - what in yt holds the data? What is data in yt? What should the schema refer to - create a mini-model to hold data output. Have user name that output, like a variable name? Have an id assigned to it?\n",
    "\n",
    "# data ouput idea - turn data points into properties for re-use\n",
    "\n",
    "# @dataclass\n",
    "# class InputOutputMapping:\n",
    "#     combo1: Dict[str, List[str]] = {'registration': ['selection', 'reduction', 'transformation']}\n",
    "\n",
    "class Dataset(ytBaseModel):\n",
    "    \"\"\" \n",
    "    The dataset model to load and that will be drawn from for other classes. Filename is the only required field. \n",
    "    \"\"\"\n",
    "    filename: str\n",
    "    name: str = \"Data for Science\"\n",
    "    comments: Optional[str] \n",
    "    grammar: str = \"registration\"\n",
    "    _yt_operation: str = \"load\"\n",
    "    _arg_mapping: dict = {'fn' : 'filename'}\n",
    "\n",
    "class Field(ytParameter):\n",
    "    field: str\n",
    "\n",
    "class Center(ytParameter):\n",
    "    center: str\n",
    "    comments: Optional[str]\n",
    "\n",
    "class Widths(ytParameter):\n",
    "    width: str\n",
    "    comments: Optional[str]\n",
    "\n",
    "class SlicePlot(ytBaseModel):\n",
    "    Dataset: Dataset\n",
    "    Field: Field\n",
    "    Axis: str\n",
    "    CenterPlot: Optional[Center]\n",
    "    WidthPlot: Optional[List[Widths]]\n",
    "    Comments: Optional[str]:\n",
    "    _yt_operation: str = \"SlicePlot\"\n",
    "    _arg_mapping: dict = {'ds' : 'Dataset', 'fields':'Field', 'axis': 'Axis', 'center': 'CenterPlot', 'width': 'WidthPlot'}                  \n",
    "\n",
    "\n",
    "class ytModel(ytBaseModel):\n",
    "    '''\n",
    "    An example for a yt analysis schema using Pydantic\n",
    "    '''\n",
    "    Plot: List[SlicePlot]\n",
    "\n",
    "    class Config:\n",
    "        title = 'yt example'\n",
    "        underscore_attrs_are_private = True\n",
    "\n",
    "    def _run(self):\n",
    "        # for the top level model, we override this. Nested objects will still be recursive!\n",
    "        att = getattr(self, \"Plot\")\n",
    "        return [p._run() for p in att]\n"
   ]
  },
  {
   "cell_type": "code",
   "execution_count": 216,
   "metadata": {},
   "outputs": [],
   "source": [
    "validated_json = {'Plot': [{\n",
    "                            \"Dataset\": {\"filename\": \"IsolatedGalaxy/galaxy0030/galaxy0030\"},\n",
    "                            \"Field\": {\"field\": \"density\"},\n",
    "                            \"Axis\" : \"x\"\n",
    "                            }]}"
   ]
  },
  {
   "cell_type": "code",
   "execution_count": 217,
   "metadata": {},
   "outputs": [],
   "source": [
    "mod = ytModel(Plot=validated_json['Plot'])"
   ]
  },
  {
   "cell_type": "code",
   "execution_count": 218,
   "metadata": {},
   "outputs": [
    {
     "data": {
      "text/plain": [
       "ytModel(Plot=[SlicePlot(Dataset=Dataset(filename='IsolatedGalaxy/galaxy0030/galaxy0030', name='Data for Science', comments=None, grammar='registration'), Field=Field(field='density'), Axis='x', CenterPlot=None, WidthPlot=None, Comments=None)])"
      ]
     },
     "execution_count": 218,
     "metadata": {},
     "output_type": "execute_result"
    }
   ],
   "source": [
    "mod"
   ]
  },
  {
   "cell_type": "code",
   "execution_count": 219,
   "metadata": {},
   "outputs": [
    {
     "data": {
      "text/plain": [
       "'density'"
      ]
     },
     "execution_count": 219,
     "metadata": {},
     "output_type": "execute_result"
    }
   ],
   "source": [
    "p = mod.Plot[0] \n",
    "p.Field.field"
   ]
  },
  {
   "cell_type": "code",
   "execution_count": null,
   "metadata": {},
   "outputs": [],
   "source": []
  },
  {
   "cell_type": "code",
   "execution_count": null,
   "metadata": {},
   "outputs": [],
   "source": []
  },
  {
   "cell_type": "code",
   "execution_count": null,
   "metadata": {},
   "outputs": [],
   "source": []
  },
  {
   "cell_type": "code",
   "execution_count": 221,
   "metadata": {},
   "outputs": [
    {
     "name": "stderr",
     "output_type": "stream",
     "text": [
      "yt : [INFO     ] 2021-04-09 17:13:35,334 Parameters: current_time              = 0.0060000200028298\n",
      "yt : [INFO     ] 2021-04-09 17:13:35,335 Parameters: domain_dimensions         = [32 32 32]\n",
      "yt : [INFO     ] 2021-04-09 17:13:35,335 Parameters: domain_left_edge          = [0. 0. 0.]\n",
      "yt : [INFO     ] 2021-04-09 17:13:35,335 Parameters: domain_right_edge         = [1. 1. 1.]\n",
      "yt : [INFO     ] 2021-04-09 17:13:35,336 Parameters: cosmological_simulation   = 0\n",
      "/home/chris/miniconda3/envs/yt_dev/lib/python3.7/site-packages/ipykernel_launcher.py:72: VisibleDeprecationWarning: SlicePlot's argument 'axis' is a deprecated alias for 'normal', it will be removed in a future version of yt.\n",
      "Deprecated since v4.0.0 . This feature will be removed in v4.1.0\n",
      "Parsing Hierarchy :  99%|█████████▉| 172/173 [00:00<00:00, 12962.60it/s]\n",
      "yt : [INFO     ] 2021-04-09 17:13:35,358 Gathering a field list (this may take a moment.)\n"
     ]
    },
    {
     "name": "stdout",
     "output_type": "stream",
     "text": [
      "SlicePlot\n",
      "pulled func <function SlicePlot at 0x7f37379b8710>\n",
      "keywords start at 1\n",
      "Dataset\n",
      "filename='IsolatedGalaxy/galaxy0030/galaxy0030' name='Data for Science' comments=None grammar='registration' is a <class '__main__.Dataset'>, calling filename='IsolatedGalaxy/galaxy0030/galaxy0030' name='Data for Science' comments=None grammar='registration'._run() now...\n",
      "load\n",
      "pulled func <function load at 0x7f3739973950>\n",
      "keywords start at 2\n",
      "filename\n",
      "['IsolatedGalaxy/galaxy0030/galaxy0030']\n",
      "normal\n",
      "Field\n",
      "field='density' is a <class '__main__.Field'>, calling field='density'._run() now...\n",
      "Axis\n",
      "[galaxy0030, None, 'density', 'x']\n"
     ]
    },
    {
     "name": "stderr",
     "output_type": "stream",
     "text": [
      "yt : [INFO     ] 2021-04-09 17:13:36,778 xlim = 0.000000 1.000000\n",
      "yt : [INFO     ] 2021-04-09 17:13:36,779 ylim = 0.000000 1.000000\n",
      "yt : [INFO     ] 2021-04-09 17:13:36,780 xlim = 0.000000 1.000000\n",
      "yt : [INFO     ] 2021-04-09 17:13:36,780 ylim = 0.000000 1.000000\n",
      "yt : [INFO     ] 2021-04-09 17:13:36,781 Making a fixed resolution buffer of (('gas', 'density')) 800 by 800\n"
     ]
    },
    {
     "data": {
      "text/html": [
       "<img style=\"max-width:100%;max-height:100%;\" src=\"data:image/png;base64,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\"><br>"
      ],
      "text/plain": [
       "<yt.visualization.plot_window.AxisAlignedSlicePlot at 0x7f3736b9bcd0>"
      ]
     },
     "metadata": {},
     "output_type": "display_data"
    }
   ],
   "source": [
    "result = mod._run()\n",
    "result[0].show()"
   ]
  }
 ],
 "metadata": {
  "kernelspec": {
   "display_name": "Python 3",
   "language": "python",
   "name": "python3"
  },
  "language_info": {
   "codemirror_mode": {
    "name": "ipython",
    "version": 3
   },
   "file_extension": ".py",
   "mimetype": "text/x-python",
   "name": "python",
   "nbconvert_exporter": "python",
   "pygments_lexer": "ipython3",
   "version": "3.7.7"
  }
 },
 "nbformat": 4,
 "nbformat_minor": 4
}
